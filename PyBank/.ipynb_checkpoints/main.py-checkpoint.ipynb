{
 "cells": [
  {
   "cell_type": "code",
   "execution_count": null,
   "metadata": {},
   "outputs": [],
   "source": [
    "import csv\n",
    "import os"
   ]
  },
  {
   "cell_type": "code",
   "execution_count": 76,
   "metadata": {},
   "outputs": [],
   "source": [
    "budgetcsv = os.path.join('',\"budget_data.csv\")\n",
    "\n",
    "file_to_output = os.path.join('',\"budget_analysis.txt\")"
   ]
  },
  {
   "cell_type": "code",
   "execution_count": 77,
   "metadata": {},
   "outputs": [],
   "source": [
    "total_months = 0\n",
    "\n",
    "month_change = []\n",
    "\n",
    "net_change_list = []\n",
    "\n",
    "great_inc = [\"\",0]\n",
    "\n",
    "great_dec = [\"\", 999999999999999]\n",
    "\n",
    "total_net = 0 "
   ]
  },
  {
   "cell_type": "code",
   "execution_count": 78,
   "metadata": {},
   "outputs": [],
   "source": [
    "with open(budgetcsv,'r') as csvFile:\n",
    "        csvReader = csv.reader(csvFile, delimiter=',')\n",
    "       \n",
    "        next(csvReader, None)\n",
    "        \n",
    "        first_row = next(csvReader)\n",
    "            \n",
    "        total_net = total_net + int(first_row[1])\n",
    "            \n",
    "        prev_net = int(first_row[1])\n",
    "        \n",
    "        for row in csvReader:\n",
    "    \n",
    "            total_months = total_months + 1\n",
    "\n",
    "            total_net = total_net + int(row[1])\n",
    "\n",
    "            net_change = int(row[1]) - prev_net\n",
    "\n",
    "            prev_net = int(row[1])\n",
    "\n",
    "            net_change_list = net_change_list + [net_change]\n",
    "\n",
    "            month_change = month_change + [row[0]]\n",
    "\n",
    "            if net_change > great_inc[1]:\n",
    "                    great_inc[0] = row[0]\n",
    "                    great_inc[1] = net_change\n",
    "\n",
    "            if net_change < great_dec[1]:\n",
    "                    great_dec[0] = row[0]\n",
    "                    great_dec[1] = net_change\n"
   ]
  },
  {
   "cell_type": "code",
   "execution_count": 79,
   "metadata": {},
   "outputs": [],
   "source": [
    "monthly_average = sum(net_change_list)/len(net_change_list)"
   ]
  },
  {
   "cell_type": "code",
   "execution_count": 80,
   "metadata": {},
   "outputs": [],
   "source": [
    "output = (f\"\\nFinancial Analysis\\n\"\n",
    "         f\"---------------------\\n\"\n",
    "         f\"Total Months: {total_months}\\n\"\n",
    "         f\"Total:${total_net}\\n\"\n",
    "         f\"Average Change: ${monthly_average:.2f}\\n\"\n",
    "         f\"Greatest Increase in profit: {great_inc[0]} (${great_inc[1]})\\n\"\n",
    "         f\"Greatest Decrease in profit: {great_dec [0]} (${great_dec[1]})\\n\")\n",
    "        "
   ]
  },
  {
   "cell_type": "code",
   "execution_count": 81,
   "metadata": {},
   "outputs": [
    {
     "name": "stdout",
     "output_type": "stream",
     "text": [
      "\n",
      "Financial Analysis\n",
      "---------------------\n",
      "Total Months: 85\n",
      "Total:$38382578\n",
      "Average Change: $-2315.12\n",
      "Greatest Increase in profit: Feb-2012 ($1926159)\n",
      "Greatest Decrease in profit: Sep-2013 ($-2196167)\n",
      "\n"
     ]
    }
   ],
   "source": [
    "print(output)"
   ]
  },
  {
   "cell_type": "code",
   "execution_count": 82,
   "metadata": {},
   "outputs": [],
   "source": [
    "with open (file_to_output, \"w\") as txt_file:\n",
    "    txt_file.write(output)"
   ]
  },
  {
   "cell_type": "code",
   "execution_count": null,
   "metadata": {},
   "outputs": [],
   "source": []
  }
 ],
 "metadata": {
  "kernelspec": {
   "display_name": "Python 3",
   "language": "python",
   "name": "python3"
  },
  "language_info": {
   "codemirror_mode": {
    "name": "ipython",
    "version": 3
   },
   "file_extension": ".py",
   "mimetype": "text/x-python",
   "name": "python",
   "nbconvert_exporter": "python",
   "pygments_lexer": "ipython3",
   "version": "3.7.4"
  }
 },
 "nbformat": 4,
 "nbformat_minor": 4
}
