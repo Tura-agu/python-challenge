{
 "cells": [
  {
   "cell_type": "code",
   "execution_count": 124,
   "metadata": {},
   "outputs": [],
   "source": [
    "import csv\n",
    "import os"
   ]
  },
  {
   "cell_type": "code",
   "execution_count": 115,
   "metadata": {},
   "outputs": [],
   "source": [
    "electioncsv = os.path.join('',\"election_data.csv\")"
   ]
  },
  {
   "cell_type": "code",
   "execution_count": 125,
   "metadata": {},
   "outputs": [],
   "source": [
    "candidate = \"\"\n",
    "\n",
    "can_votes = {}\n",
    "\n",
    "total_votes = 0\n",
    "\n",
    "perc_of_candidate= {}\n",
    "\n",
    "winner_total = 0\n",
    "\n",
    "winner = \"\""
   ]
  },
  {
   "cell_type": "code",
   "execution_count": 126,
   "metadata": {},
   "outputs": [],
   "source": [
    "with open(electioncsv,'r') as csvFile:\n",
    "    \n",
    "    csvReader = csv.reader(csvFile, delimiter=',')\n",
    "    \n",
    "    next(csvReader, None)\n",
    "    \n",
    "    for row in csvReader:\n",
    "        \n",
    "        total_votes = total_votes + 1\n",
    "        \n",
    "        candidate = row[2]\n",
    "        \n",
    "        if candidate in can_votes:\n",
    "            \n",
    "            can_votes[candidate] = can_votes[candidate] + 1\n",
    "            \n",
    "        else:\n",
    "            \n",
    "            can_votes[candidate] = 1   "
   ]
  },
  {
   "cell_type": "code",
   "execution_count": 127,
   "metadata": {},
   "outputs": [],
   "source": [
    "for name, votes_ct in can_votes.items():\n",
    "    \n",
    "    perc_of_candidate[name] = \"{0:.0%}\".format(votes_ct/total_votes)\n",
    "    \n",
    "    if votes_ct > winner_total:\n",
    "        \n",
    "        winner_total = votes_ct\n",
    "        \n",
    "        winner = name"
   ]
  },
  {
   "cell_type": "code",
   "execution_count": 128,
   "metadata": {},
   "outputs": [
    {
     "name": "stdout",
     "output_type": "stream",
     "text": [
      "Election Results\n",
      "--------------------------\n",
      " Total Votes: 3521001\n",
      "--------------------------\n",
      "Khan: 63% (2218231)\n",
      "Correy: 20% (704200)\n",
      "Li: 14% (492940)\n",
      "O'Tooley: 3% (105630)\n",
      "--------------------------\n",
      "AND the Winner is: Khan!\n",
      "--------------------------\n"
     ]
    }
   ],
   "source": [
    "print(\"Election Results\")\n",
    "\n",
    "print(\"--------------------------\")\n",
    "\n",
    "print(f\" Total Votes: {total_votes}\") \n",
    "\n",
    "print(\"--------------------------\")\n",
    "\n",
    "for name, votes_ct in can_votes.items():\n",
    "    \n",
    "    print(f\"{name}: {perc_of_candidate[name]} ({votes_ct})\")\n",
    "    \n",
    "print(\"--------------------------\")\n",
    "\n",
    "print(f\"AND the Winner is: {winner}!\")\n",
    "\n",
    "print(\"--------------------------\")"
   ]
  },
  {
   "cell_type": "code",
   "execution_count": 129,
   "metadata": {},
   "outputs": [],
   "source": [
    "results_file = open (\"election_results.txt\",\"w\")"
   ]
  },
  {
   "cell_type": "code",
   "execution_count": 131,
   "metadata": {},
   "outputs": [
    {
     "data": {
      "text/plain": [
       "27"
      ]
     },
     "execution_count": 131,
     "metadata": {},
     "output_type": "execute_result"
    }
   ],
   "source": [
    "results_file.write(\"Election Results \\n\")\n",
    "\n",
    "results_file.write(\"--------------------------\\n\")\n",
    "\n",
    "results_file.write(f\"Total Votes: {total_votes} \\n\")\n",
    "\n",
    "results_file.write(\"--------------------------\\n\")\n",
    "                   \n",
    "for name, votes_ct in can_votes.items():\n",
    "    \n",
    "   results_file.write(f\"{name}: {perc_of_candidate[name]} ({votes_ct})\\n\")\n",
    "                   \n",
    "results_file.write(\"--------------------------\\n\")\n",
    "                   \n",
    "results_file.write(f\"AND the Winner is: {winner}!\\n\")\n",
    "                   \n",
    "results_file.write(\"--------------------------\\n\")\n",
    "  "
   ]
  },
  {
   "cell_type": "code",
   "execution_count": null,
   "metadata": {},
   "outputs": [],
   "source": []
  }
 ],
 "metadata": {
  "kernelspec": {
   "display_name": "Python 3",
   "language": "python",
   "name": "python3"
  },
  "language_info": {
   "codemirror_mode": {
    "name": "ipython",
    "version": 3
   },
   "file_extension": ".py",
   "mimetype": "text/x-python",
   "name": "python",
   "nbconvert_exporter": "python",
   "pygments_lexer": "ipython3",
   "version": "3.7.4"
  }
 },
 "nbformat": 4,
 "nbformat_minor": 4
}
